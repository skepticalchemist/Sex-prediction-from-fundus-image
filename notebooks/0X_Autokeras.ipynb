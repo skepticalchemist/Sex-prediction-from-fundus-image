{
 "cells": [
  {
   "cell_type": "code",
   "execution_count": 1,
   "id": "5870a56c-1ba3-485e-b79e-6bc967a15ca5",
   "metadata": {
    "execution": {
     "iopub.execute_input": "2022-12-20T21:52:36.554273Z",
     "iopub.status.busy": "2022-12-20T21:52:36.553914Z",
     "iopub.status.idle": "2022-12-20T21:52:39.108700Z",
     "shell.execute_reply": "2022-12-20T21:52:39.107948Z",
     "shell.execute_reply.started": "2022-12-20T21:52:36.554217Z"
    },
    "tags": []
   },
   "outputs": [
    {
     "name": "stdout",
     "output_type": "stream",
     "text": [
      "Requirement already satisfied: autokeras in /opt/saturncloud/envs/saturn/lib/python3.9/site-packages (1.0.20)\n",
      "Requirement already satisfied: packaging in /opt/saturncloud/envs/saturn/lib/python3.9/site-packages (from autokeras) (21.3)\n",
      "Requirement already satisfied: tensorflow>=2.8.0 in /opt/saturncloud/envs/saturn/lib/python3.9/site-packages (from autokeras) (2.9.1)\n",
      "Requirement already satisfied: keras-tuner>=1.1.0 in /opt/saturncloud/envs/saturn/lib/python3.9/site-packages (from autokeras) (1.1.3)\n",
      "Requirement already satisfied: pandas in /opt/saturncloud/envs/saturn/lib/python3.9/site-packages (from autokeras) (1.4.2)\n",
      "Requirement already satisfied: kt-legacy in /opt/saturncloud/envs/saturn/lib/python3.9/site-packages (from keras-tuner>=1.1.0->autokeras) (1.0.4)\n",
      "Requirement already satisfied: requests in /opt/saturncloud/envs/saturn/lib/python3.9/site-packages (from keras-tuner>=1.1.0->autokeras) (2.28.1)\n",
      "Requirement already satisfied: tensorboard in /opt/saturncloud/envs/saturn/lib/python3.9/site-packages (from keras-tuner>=1.1.0->autokeras) (2.9.0)\n",
      "Requirement already satisfied: ipython in /opt/saturncloud/envs/saturn/lib/python3.9/site-packages (from keras-tuner>=1.1.0->autokeras) (8.5.0)\n",
      "Requirement already satisfied: numpy in /opt/saturncloud/envs/saturn/lib/python3.9/site-packages (from keras-tuner>=1.1.0->autokeras) (1.21.6)\n",
      "Requirement already satisfied: keras<2.10.0,>=2.9.0rc0 in /opt/saturncloud/envs/saturn/lib/python3.9/site-packages (from tensorflow>=2.8.0->autokeras) (2.9.0)\n",
      "Requirement already satisfied: opt-einsum>=2.3.2 in /opt/saturncloud/envs/saturn/lib/python3.9/site-packages (from tensorflow>=2.8.0->autokeras) (3.3.0)\n",
      "Requirement already satisfied: protobuf<3.20,>=3.9.2 in /opt/saturncloud/envs/saturn/lib/python3.9/site-packages (from tensorflow>=2.8.0->autokeras) (3.19.5)\n",
      "Requirement already satisfied: keras-preprocessing>=1.1.1 in /opt/saturncloud/envs/saturn/lib/python3.9/site-packages (from tensorflow>=2.8.0->autokeras) (1.1.2)\n",
      "Requirement already satisfied: grpcio<2.0,>=1.24.3 in /opt/saturncloud/envs/saturn/lib/python3.9/site-packages (from tensorflow>=2.8.0->autokeras) (1.46.3)\n",
      "Requirement already satisfied: termcolor>=1.1.0 in /opt/saturncloud/envs/saturn/lib/python3.9/site-packages (from tensorflow>=2.8.0->autokeras) (2.0.1)\n",
      "Requirement already satisfied: absl-py>=1.0.0 in /opt/saturncloud/envs/saturn/lib/python3.9/site-packages (from tensorflow>=2.8.0->autokeras) (1.2.0)\n",
      "Requirement already satisfied: setuptools in /opt/saturncloud/envs/saturn/lib/python3.9/site-packages (from tensorflow>=2.8.0->autokeras) (59.8.0)\n",
      "Requirement already satisfied: google-pasta>=0.1.1 in /opt/saturncloud/envs/saturn/lib/python3.9/site-packages (from tensorflow>=2.8.0->autokeras) (0.2.0)\n",
      "Requirement already satisfied: tensorflow-io-gcs-filesystem>=0.23.1 in /opt/saturncloud/envs/saturn/lib/python3.9/site-packages (from tensorflow>=2.8.0->autokeras) (0.27.0)\n",
      "Requirement already satisfied: typing-extensions>=3.6.6 in /opt/saturncloud/envs/saturn/lib/python3.9/site-packages (from tensorflow>=2.8.0->autokeras) (4.3.0)\n",
      "Requirement already satisfied: six>=1.12.0 in /opt/saturncloud/envs/saturn/lib/python3.9/site-packages (from tensorflow>=2.8.0->autokeras) (1.16.0)\n",
      "Requirement already satisfied: gast<=0.4.0,>=0.2.1 in /opt/saturncloud/envs/saturn/lib/python3.9/site-packages (from tensorflow>=2.8.0->autokeras) (0.4.0)\n",
      "Requirement already satisfied: libclang>=13.0.0 in /opt/saturncloud/envs/saturn/lib/python3.9/site-packages (from tensorflow>=2.8.0->autokeras) (14.0.6)\n",
      "Requirement already satisfied: wrapt>=1.11.0 in /opt/saturncloud/envs/saturn/lib/python3.9/site-packages (from tensorflow>=2.8.0->autokeras) (1.14.1)\n",
      "Requirement already satisfied: tensorflow-estimator<2.10.0,>=2.9.0rc0 in /opt/saturncloud/envs/saturn/lib/python3.9/site-packages (from tensorflow>=2.8.0->autokeras) (2.9.0)\n",
      "Requirement already satisfied: astunparse>=1.6.0 in /opt/saturncloud/envs/saturn/lib/python3.9/site-packages (from tensorflow>=2.8.0->autokeras) (1.6.3)\n",
      "Requirement already satisfied: h5py>=2.9.0 in /opt/saturncloud/envs/saturn/lib/python3.9/site-packages (from tensorflow>=2.8.0->autokeras) (3.7.0)\n",
      "Requirement already satisfied: flatbuffers<2,>=1.12 in /opt/saturncloud/envs/saturn/lib/python3.9/site-packages (from tensorflow>=2.8.0->autokeras) (1.12)\n",
      "Requirement already satisfied: pyparsing!=3.0.5,>=2.0.2 in /opt/saturncloud/envs/saturn/lib/python3.9/site-packages (from packaging->autokeras) (3.0.9)\n",
      "Requirement already satisfied: python-dateutil>=2.8.1 in /opt/saturncloud/envs/saturn/lib/python3.9/site-packages (from pandas->autokeras) (2.8.2)\n",
      "Requirement already satisfied: pytz>=2020.1 in /opt/saturncloud/envs/saturn/lib/python3.9/site-packages (from pandas->autokeras) (2022.2.1)\n",
      "Requirement already satisfied: wheel<1.0,>=0.23.0 in /opt/saturncloud/envs/saturn/lib/python3.9/site-packages (from astunparse>=1.6.0->tensorflow>=2.8.0->autokeras) (0.37.1)\n",
      "Requirement already satisfied: tensorboard-data-server<0.7.0,>=0.6.0 in /opt/saturncloud/envs/saturn/lib/python3.9/site-packages (from tensorboard->keras-tuner>=1.1.0->autokeras) (0.6.0)\n",
      "Requirement already satisfied: google-auth<3,>=1.6.3 in /opt/saturncloud/envs/saturn/lib/python3.9/site-packages (from tensorboard->keras-tuner>=1.1.0->autokeras) (2.11.1)\n",
      "Requirement already satisfied: werkzeug>=1.0.1 in /opt/saturncloud/envs/saturn/lib/python3.9/site-packages (from tensorboard->keras-tuner>=1.1.0->autokeras) (2.2.2)\n",
      "Requirement already satisfied: markdown>=2.6.8 in /opt/saturncloud/envs/saturn/lib/python3.9/site-packages (from tensorboard->keras-tuner>=1.1.0->autokeras) (3.4.1)\n",
      "Requirement already satisfied: tensorboard-plugin-wit>=1.6.0 in /opt/saturncloud/envs/saturn/lib/python3.9/site-packages (from tensorboard->keras-tuner>=1.1.0->autokeras) (1.8.1)\n",
      "Requirement already satisfied: google-auth-oauthlib<0.5,>=0.4.1 in /opt/saturncloud/envs/saturn/lib/python3.9/site-packages (from tensorboard->keras-tuner>=1.1.0->autokeras) (0.4.6)\n",
      "Requirement already satisfied: charset-normalizer<3,>=2 in /opt/saturncloud/envs/saturn/lib/python3.9/site-packages (from requests->keras-tuner>=1.1.0->autokeras) (2.0.12)\n",
      "Requirement already satisfied: urllib3<1.27,>=1.21.1 in /opt/saturncloud/envs/saturn/lib/python3.9/site-packages (from requests->keras-tuner>=1.1.0->autokeras) (1.26.11)\n",
      "Requirement already satisfied: certifi>=2017.4.17 in /opt/saturncloud/envs/saturn/lib/python3.9/site-packages (from requests->keras-tuner>=1.1.0->autokeras) (2022.9.24)\n",
      "Requirement already satisfied: idna<4,>=2.5 in /opt/saturncloud/envs/saturn/lib/python3.9/site-packages (from requests->keras-tuner>=1.1.0->autokeras) (3.4)\n",
      "Requirement already satisfied: decorator in /opt/saturncloud/envs/saturn/lib/python3.9/site-packages (from ipython->keras-tuner>=1.1.0->autokeras) (5.1.1)\n",
      "Requirement already satisfied: pexpect>4.3 in /opt/saturncloud/envs/saturn/lib/python3.9/site-packages (from ipython->keras-tuner>=1.1.0->autokeras) (4.8.0)\n",
      "Requirement already satisfied: pickleshare in /opt/saturncloud/envs/saturn/lib/python3.9/site-packages (from ipython->keras-tuner>=1.1.0->autokeras) (0.7.5)\n",
      "Requirement already satisfied: matplotlib-inline in /opt/saturncloud/envs/saturn/lib/python3.9/site-packages (from ipython->keras-tuner>=1.1.0->autokeras) (0.1.6)\n",
      "Requirement already satisfied: jedi>=0.16 in /opt/saturncloud/envs/saturn/lib/python3.9/site-packages (from ipython->keras-tuner>=1.1.0->autokeras) (0.18.1)\n",
      "Requirement already satisfied: traitlets>=5 in /opt/saturncloud/envs/saturn/lib/python3.9/site-packages (from ipython->keras-tuner>=1.1.0->autokeras) (5.4.0)\n",
      "Requirement already satisfied: backcall in /opt/saturncloud/envs/saturn/lib/python3.9/site-packages (from ipython->keras-tuner>=1.1.0->autokeras) (0.2.0)\n",
      "Requirement already satisfied: pygments>=2.4.0 in /opt/saturncloud/envs/saturn/lib/python3.9/site-packages (from ipython->keras-tuner>=1.1.0->autokeras) (2.13.0)\n",
      "Requirement already satisfied: prompt-toolkit<3.1.0,>3.0.1 in /opt/saturncloud/envs/saturn/lib/python3.9/site-packages (from ipython->keras-tuner>=1.1.0->autokeras) (3.0.31)\n",
      "Requirement already satisfied: stack-data in /opt/saturncloud/envs/saturn/lib/python3.9/site-packages (from ipython->keras-tuner>=1.1.0->autokeras) (0.5.1)\n",
      "Requirement already satisfied: cachetools<6.0,>=2.0.0 in /opt/saturncloud/envs/saturn/lib/python3.9/site-packages (from google-auth<3,>=1.6.3->tensorboard->keras-tuner>=1.1.0->autokeras) (5.2.0)\n",
      "Requirement already satisfied: rsa<5,>=3.1.4 in /opt/saturncloud/envs/saturn/lib/python3.9/site-packages (from google-auth<3,>=1.6.3->tensorboard->keras-tuner>=1.1.0->autokeras) (4.9)\n",
      "Requirement already satisfied: pyasn1-modules>=0.2.1 in /opt/saturncloud/envs/saturn/lib/python3.9/site-packages (from google-auth<3,>=1.6.3->tensorboard->keras-tuner>=1.1.0->autokeras) (0.2.7)\n",
      "Requirement already satisfied: requests-oauthlib>=0.7.0 in /opt/saturncloud/envs/saturn/lib/python3.9/site-packages (from google-auth-oauthlib<0.5,>=0.4.1->tensorboard->keras-tuner>=1.1.0->autokeras) (1.3.1)\n",
      "Requirement already satisfied: parso<0.9.0,>=0.8.0 in /opt/saturncloud/envs/saturn/lib/python3.9/site-packages (from jedi>=0.16->ipython->keras-tuner>=1.1.0->autokeras) (0.8.3)\n",
      "Requirement already satisfied: importlib-metadata>=4.4 in /opt/saturncloud/envs/saturn/lib/python3.9/site-packages (from markdown>=2.6.8->tensorboard->keras-tuner>=1.1.0->autokeras) (4.11.4)\n",
      "Requirement already satisfied: ptyprocess>=0.5 in /opt/saturncloud/envs/saturn/lib/python3.9/site-packages (from pexpect>4.3->ipython->keras-tuner>=1.1.0->autokeras) (0.7.0)\n",
      "Requirement already satisfied: wcwidth in /opt/saturncloud/envs/saturn/lib/python3.9/site-packages (from prompt-toolkit<3.1.0,>3.0.1->ipython->keras-tuner>=1.1.0->autokeras) (0.2.5)\n",
      "Requirement already satisfied: MarkupSafe>=2.1.1 in /opt/saturncloud/envs/saturn/lib/python3.9/site-packages (from werkzeug>=1.0.1->tensorboard->keras-tuner>=1.1.0->autokeras) (2.1.1)\n",
      "Requirement already satisfied: executing in /opt/saturncloud/envs/saturn/lib/python3.9/site-packages (from stack-data->ipython->keras-tuner>=1.1.0->autokeras) (1.1.0)\n",
      "Requirement already satisfied: asttokens in /opt/saturncloud/envs/saturn/lib/python3.9/site-packages (from stack-data->ipython->keras-tuner>=1.1.0->autokeras) (2.0.8)\n",
      "Requirement already satisfied: pure-eval in /opt/saturncloud/envs/saturn/lib/python3.9/site-packages (from stack-data->ipython->keras-tuner>=1.1.0->autokeras) (0.2.2)\n",
      "Requirement already satisfied: zipp>=0.5 in /opt/saturncloud/envs/saturn/lib/python3.9/site-packages (from importlib-metadata>=4.4->markdown>=2.6.8->tensorboard->keras-tuner>=1.1.0->autokeras) (3.8.1)\n",
      "Requirement already satisfied: pyasn1<0.5.0,>=0.4.6 in /opt/saturncloud/envs/saturn/lib/python3.9/site-packages (from pyasn1-modules>=0.2.1->google-auth<3,>=1.6.3->tensorboard->keras-tuner>=1.1.0->autokeras) (0.4.8)\n",
      "Requirement already satisfied: oauthlib>=3.0.0 in /opt/saturncloud/envs/saturn/lib/python3.9/site-packages (from requests-oauthlib>=0.7.0->google-auth-oauthlib<0.5,>=0.4.1->tensorboard->keras-tuner>=1.1.0->autokeras) (3.2.1)\n"
     ]
    }
   ],
   "source": [
    "!pip install autokeras"
   ]
  },
  {
   "cell_type": "code",
   "execution_count": 2,
   "id": "993d40bd-bf66-415d-881c-7bc795440f89",
   "metadata": {
    "execution": {
     "iopub.execute_input": "2022-12-20T21:52:39.111334Z",
     "iopub.status.busy": "2022-12-20T21:52:39.110911Z",
     "iopub.status.idle": "2022-12-20T21:52:41.153827Z",
     "shell.execute_reply": "2022-12-20T21:52:41.153085Z",
     "shell.execute_reply.started": "2022-12-20T21:52:39.111292Z"
    },
    "tags": []
   },
   "outputs": [
    {
     "name": "stderr",
     "output_type": "stream",
     "text": [
      "2022-12-20 21:52:39.339427: I tensorflow/core/util/util.cc:169] oneDNN custom operations are on. You may see slightly different numerical results due to floating-point round-off errors from different computation orders. To turn them off, set the environment variable `TF_ENABLE_ONEDNN_OPTS=0`.\n"
     ]
    }
   ],
   "source": [
    "import os\n",
    "import shutil\n",
    "\n",
    "import numpy as np\n",
    "import tensorflow as tf\n",
    "\n",
    "import autokeras as ak\n",
    "\n",
    "# from tensorflow.keras.preprocessing import image_dataset_from_directory"
   ]
  },
  {
   "cell_type": "code",
   "execution_count": 3,
   "id": "eae9d1b4-b66f-43eb-bd9b-18423198d2c3",
   "metadata": {
    "execution": {
     "iopub.execute_input": "2022-12-20T21:52:41.155279Z",
     "iopub.status.busy": "2022-12-20T21:52:41.154845Z",
     "iopub.status.idle": "2022-12-20T21:52:41.158649Z",
     "shell.execute_reply": "2022-12-20T21:52:41.158046Z",
     "shell.execute_reply.started": "2022-12-20T21:52:41.155256Z"
    },
    "tags": []
   },
   "outputs": [],
   "source": [
    "image_size = (250, 250)\n",
    "batch_size = 32\n",
    "# epochs = 100"
   ]
  },
  {
   "cell_type": "code",
   "execution_count": 4,
   "id": "5fab1446-8e5d-4566-b2fd-b3f505e5c013",
   "metadata": {
    "execution": {
     "iopub.execute_input": "2022-12-20T21:52:41.159765Z",
     "iopub.status.busy": "2022-12-20T21:52:41.159487Z",
     "iopub.status.idle": "2022-12-20T21:52:42.387114Z",
     "shell.execute_reply": "2022-12-20T21:52:42.386333Z",
     "shell.execute_reply.started": "2022-12-20T21:52:41.159740Z"
    },
    "tags": []
   },
   "outputs": [
    {
     "name": "stdout",
     "output_type": "stream",
     "text": [
      "Found 2816 files belonging to 2 classes.\n"
     ]
    },
    {
     "name": "stderr",
     "output_type": "stream",
     "text": [
      "2022-12-20 21:52:41.279517: I tensorflow/stream_executor/cuda/cuda_gpu_executor.cc:975] successful NUMA node read from SysFS had negative value (-1), but there must be at least one NUMA node, so returning NUMA node zero\n"
     ]
    },
    {
     "name": "stdout",
     "output_type": "stream",
     "text": [
      "Found 412 files belonging to 2 classes.\n",
      "Found 764 files belonging to 2 classes.\n"
     ]
    },
    {
     "name": "stderr",
     "output_type": "stream",
     "text": [
      "2022-12-20 21:52:41.300155: I tensorflow/stream_executor/cuda/cuda_gpu_executor.cc:975] successful NUMA node read from SysFS had negative value (-1), but there must be at least one NUMA node, so returning NUMA node zero\n",
      "2022-12-20 21:52:41.300794: I tensorflow/stream_executor/cuda/cuda_gpu_executor.cc:975] successful NUMA node read from SysFS had negative value (-1), but there must be at least one NUMA node, so returning NUMA node zero\n",
      "2022-12-20 21:52:41.301733: I tensorflow/core/platform/cpu_feature_guard.cc:193] This TensorFlow binary is optimized with oneAPI Deep Neural Network Library (oneDNN) to use the following CPU instructions in performance-critical operations:  AVX2 AVX512F AVX512_VNNI FMA\n",
      "To enable them in other operations, rebuild TensorFlow with the appropriate compiler flags.\n",
      "2022-12-20 21:52:41.302156: I tensorflow/stream_executor/cuda/cuda_gpu_executor.cc:975] successful NUMA node read from SysFS had negative value (-1), but there must be at least one NUMA node, so returning NUMA node zero\n",
      "2022-12-20 21:52:41.302759: I tensorflow/stream_executor/cuda/cuda_gpu_executor.cc:975] successful NUMA node read from SysFS had negative value (-1), but there must be at least one NUMA node, so returning NUMA node zero\n",
      "2022-12-20 21:52:41.303321: I tensorflow/stream_executor/cuda/cuda_gpu_executor.cc:975] successful NUMA node read from SysFS had negative value (-1), but there must be at least one NUMA node, so returning NUMA node zero\n",
      "2022-12-20 21:52:41.963362: I tensorflow/stream_executor/cuda/cuda_gpu_executor.cc:975] successful NUMA node read from SysFS had negative value (-1), but there must be at least one NUMA node, so returning NUMA node zero\n",
      "2022-12-20 21:52:41.964004: I tensorflow/stream_executor/cuda/cuda_gpu_executor.cc:975] successful NUMA node read from SysFS had negative value (-1), but there must be at least one NUMA node, so returning NUMA node zero\n",
      "2022-12-20 21:52:41.964563: I tensorflow/stream_executor/cuda/cuda_gpu_executor.cc:975] successful NUMA node read from SysFS had negative value (-1), but there must be at least one NUMA node, so returning NUMA node zero\n",
      "2022-12-20 21:52:41.965086: I tensorflow/core/common_runtime/gpu/gpu_device.cc:1532] Created device /job:localhost/replica:0/task:0/device:GPU:0 with 13795 MB memory:  -> device: 0, name: Tesla T4, pci bus id: 0000:00:1e.0, compute capability: 7.5\n"
     ]
    }
   ],
   "source": [
    "train_ds = ak.image_dataset_from_directory(\n",
    "    '../dat/train/', \n",
    "    seed=4231,\n",
    "    image_size=image_size, \n",
    "    shuffle=True,\n",
    "    batch_size=batch_size,\n",
    "    #crop_to_aspect_ratio=True\n",
    ")\n",
    "\n",
    "\n",
    "val_ds = ak.image_dataset_from_directory(\n",
    "    '../dat/val/', \n",
    "    seed=4231,\n",
    "    image_size=image_size, \n",
    "    shuffle=True,\n",
    "    batch_size=batch_size,\n",
    "    #crop_to_aspect_ratio=True\n",
    ")\n",
    "\n",
    "test_ds = ak.image_dataset_from_directory(\n",
    "    '../dat/test/', \n",
    "    seed=4231,\n",
    "    image_size=image_size, \n",
    "    shuffle=False,\n",
    "    batch_size=batch_size,\n",
    "    #crop_to_aspect_ratio=True\n",
    ")"
   ]
  },
  {
   "cell_type": "code",
   "execution_count": 5,
   "id": "a1899bc9-c923-4fbf-922e-df5ee3dbc91b",
   "metadata": {
    "execution": {
     "iopub.execute_input": "2022-12-20T21:52:42.388349Z",
     "iopub.status.busy": "2022-12-20T21:52:42.388068Z",
     "iopub.status.idle": "2022-12-20T21:52:42.394863Z",
     "shell.execute_reply": "2022-12-20T21:52:42.394291Z",
     "shell.execute_reply.started": "2022-12-20T21:52:42.388328Z"
    },
    "tags": []
   },
   "outputs": [],
   "source": [
    "AUTOTUNE = tf.data.AUTOTUNE\n",
    "\n",
    "train_ds = train_ds.cache().prefetch(buffer_size=AUTOTUNE)\n",
    "val_ds = val_ds.cache().prefetch(buffer_size=AUTOTUNE)\n",
    "test_ds = test_ds.cache().prefetch(buffer_size=AUTOTUNE)"
   ]
  },
  {
   "cell_type": "code",
   "execution_count": 6,
   "id": "2b714649-f884-4253-9da6-389b03655986",
   "metadata": {
    "execution": {
     "iopub.execute_input": "2022-12-20T21:52:42.396290Z",
     "iopub.status.busy": "2022-12-20T21:52:42.395934Z",
     "iopub.status.idle": "2022-12-20T21:52:42.432210Z",
     "shell.execute_reply": "2022-12-20T21:52:42.431545Z",
     "shell.execute_reply.started": "2022-12-20T21:52:42.396260Z"
    },
    "tags": []
   },
   "outputs": [],
   "source": [
    "model = ak.ImageClassifier(overwrite=True, max_trials=10, num_classes=2, loss='binary_crossentropy', metrics='accuracy', objective='val_accuracy')\n",
    "# model.fit(train_ds, epochs=10, validation_data=val_ds)\n",
    "# print(model.evaluate(test_ds))"
   ]
  },
  {
   "cell_type": "code",
   "execution_count": 7,
   "id": "d353516c-3d40-46ef-a2b1-d3117206efc3",
   "metadata": {
    "execution": {
     "iopub.execute_input": "2022-12-20T21:52:42.434207Z",
     "iopub.status.busy": "2022-12-20T21:52:42.433906Z",
     "iopub.status.idle": "2022-12-20T21:52:42.439333Z",
     "shell.execute_reply": "2022-12-20T21:52:42.438666Z",
     "shell.execute_reply.started": "2022-12-20T21:52:42.434186Z"
    },
    "tags": []
   },
   "outputs": [],
   "source": [
    "history_list = {}"
   ]
  },
  {
   "cell_type": "code",
   "execution_count": 8,
   "id": "e56b08fb-23f6-4b74-9d0c-8d1a81bc48bb",
   "metadata": {
    "execution": {
     "iopub.execute_input": "2022-12-20T21:52:42.440626Z",
     "iopub.status.busy": "2022-12-20T21:52:42.440365Z",
     "iopub.status.idle": "2022-12-20T23:02:40.770766Z",
     "shell.execute_reply": "2022-12-20T23:02:40.770113Z",
     "shell.execute_reply.started": "2022-12-20T21:52:42.440606Z"
    },
    "tags": []
   },
   "outputs": [
    {
     "name": "stdout",
     "output_type": "stream",
     "text": [
      "Trial 10 Complete [00h 04m 37s]\n",
      "val_accuracy: 0.5728155374526978\n",
      "\n",
      "Best val_accuracy So Far: 0.5898058414459229\n",
      "Total elapsed time: 01h 05m 06s\n",
      "INFO:tensorflow:Oracle triggered exit\n",
      "WARNING:tensorflow:Using a while_loop for converting RngReadAndSkip\n",
      "WARNING:tensorflow:Using a while_loop for converting Bitcast\n",
      "WARNING:tensorflow:Using a while_loop for converting Bitcast\n",
      "WARNING:tensorflow:Using a while_loop for converting StatelessRandomUniformV2\n",
      "WARNING:tensorflow:Using a while_loop for converting RngReadAndSkip\n",
      "WARNING:tensorflow:Using a while_loop for converting Bitcast\n",
      "WARNING:tensorflow:Using a while_loop for converting Bitcast\n",
      "WARNING:tensorflow:Using a while_loop for converting StatelessRandomUniformV2\n",
      "WARNING:tensorflow:Using a while_loop for converting ImageProjectiveTransformV3\n",
      "Epoch 1/5\n",
      "WARNING:tensorflow:Using a while_loop for converting RngReadAndSkip\n",
      "WARNING:tensorflow:Using a while_loop for converting Bitcast\n",
      "WARNING:tensorflow:Using a while_loop for converting Bitcast\n",
      "WARNING:tensorflow:Using a while_loop for converting StatelessRandomUniformV2\n",
      "WARNING:tensorflow:Using a while_loop for converting RngReadAndSkip\n",
      "WARNING:tensorflow:Using a while_loop for converting Bitcast\n",
      "WARNING:tensorflow:Using a while_loop for converting Bitcast\n",
      "WARNING:tensorflow:Using a while_loop for converting StatelessRandomUniformV2\n",
      "WARNING:tensorflow:Using a while_loop for converting ImageProjectiveTransformV3\n",
      "WARNING:tensorflow:Using a while_loop for converting RngReadAndSkip\n",
      "WARNING:tensorflow:Using a while_loop for converting Bitcast\n",
      "WARNING:tensorflow:Using a while_loop for converting Bitcast\n",
      "WARNING:tensorflow:Using a while_loop for converting StatelessRandomUniformV2\n",
      "WARNING:tensorflow:Using a while_loop for converting RngReadAndSkip\n",
      "WARNING:tensorflow:Using a while_loop for converting Bitcast\n",
      "WARNING:tensorflow:Using a while_loop for converting Bitcast\n",
      "WARNING:tensorflow:Using a while_loop for converting StatelessRandomUniformV2\n",
      "WARNING:tensorflow:Using a while_loop for converting ImageProjectiveTransformV3\n",
      "88/88 [==============================] - 53s 529ms/step - loss: 0.9181 - accuracy: 0.5135 - val_loss: 0.7058 - val_accuracy: 0.4539\n",
      "Epoch 2/5\n",
      "88/88 [==============================] - 46s 521ms/step - loss: 0.7138 - accuracy: 0.5270 - val_loss: 0.6995 - val_accuracy: 0.5583\n",
      "Epoch 3/5\n",
      "88/88 [==============================] - 46s 522ms/step - loss: 0.7203 - accuracy: 0.5316 - val_loss: 0.7441 - val_accuracy: 0.4466\n",
      "Epoch 4/5\n",
      "88/88 [==============================] - 46s 522ms/step - loss: 0.7190 - accuracy: 0.5213 - val_loss: 1.1663 - val_accuracy: 0.4879\n",
      "Epoch 5/5\n",
      "88/88 [==============================] - 46s 521ms/step - loss: 0.7038 - accuracy: 0.5341 - val_loss: 0.7069 - val_accuracy: 0.5607\n",
      "WARNING:tensorflow:Using a while_loop for converting RngReadAndSkip\n",
      "WARNING:tensorflow:Using a while_loop for converting Bitcast\n",
      "WARNING:tensorflow:Using a while_loop for converting Bitcast\n",
      "WARNING:tensorflow:Using a while_loop for converting StatelessRandomUniformV2\n",
      "WARNING:tensorflow:Using a while_loop for converting RngReadAndSkip\n",
      "WARNING:tensorflow:Using a while_loop for converting Bitcast\n",
      "WARNING:tensorflow:Using a while_loop for converting Bitcast\n",
      "WARNING:tensorflow:Using a while_loop for converting StatelessRandomUniformV2\n",
      "WARNING:tensorflow:Using a while_loop for converting ImageProjectiveTransformV3\n",
      "WARNING:tensorflow:Using a while_loop for converting RngReadAndSkip\n",
      "WARNING:tensorflow:Using a while_loop for converting Bitcast\n",
      "WARNING:tensorflow:Using a while_loop for converting Bitcast\n",
      "WARNING:tensorflow:Using a while_loop for converting StatelessRandomUniformV2\n",
      "WARNING:tensorflow:Using a while_loop for converting RngReadAndSkip\n",
      "WARNING:tensorflow:Using a while_loop for converting Bitcast\n",
      "WARNING:tensorflow:Using a while_loop for converting Bitcast\n",
      "WARNING:tensorflow:Using a while_loop for converting StatelessRandomUniformV2\n",
      "WARNING:tensorflow:Using a while_loop for converting ImageProjectiveTransformV3\n",
      "WARNING:tensorflow:Using a while_loop for converting RngReadAndSkip\n",
      "WARNING:tensorflow:Using a while_loop for converting Bitcast\n",
      "WARNING:tensorflow:Using a while_loop for converting Bitcast\n",
      "WARNING:tensorflow:Using a while_loop for converting StatelessRandomUniformV2\n",
      "WARNING:tensorflow:Using a while_loop for converting RngReadAndSkip\n",
      "WARNING:tensorflow:Using a while_loop for converting Bitcast\n",
      "WARNING:tensorflow:Using a while_loop for converting Bitcast\n",
      "WARNING:tensorflow:Using a while_loop for converting StatelessRandomUniformV2\n",
      "WARNING:tensorflow:Using a while_loop for converting ImageProjectiveTransformV3\n"
     ]
    },
    {
     "name": "stderr",
     "output_type": "stream",
     "text": [
      "WARNING:absl:Found untraced functions such as _jit_compiled_convolution_op, _jit_compiled_convolution_op, _jit_compiled_convolution_op, _jit_compiled_convolution_op, _jit_compiled_convolution_op while saving (showing 5 of 53). These functions will not be directly callable after loading.\n"
     ]
    },
    {
     "name": "stdout",
     "output_type": "stream",
     "text": [
      "INFO:tensorflow:Assets written to: ./image_classifier/best_model/assets\n"
     ]
    },
    {
     "name": "stderr",
     "output_type": "stream",
     "text": [
      "INFO:tensorflow:Assets written to: ./image_classifier/best_model/assets\n"
     ]
    }
   ],
   "source": [
    "history = model.fit(train_ds, epochs=5, validation_data=val_ds, verbose=2)\n",
    "\n",
    "history_list['model_1'] = history.history"
   ]
  },
  {
   "cell_type": "code",
   "execution_count": 9,
   "id": "89ba0110-ab9f-4a97-a57a-0898916bd61e",
   "metadata": {
    "execution": {
     "iopub.execute_input": "2022-12-20T23:02:40.779295Z",
     "iopub.status.busy": "2022-12-20T23:02:40.778939Z",
     "iopub.status.idle": "2022-12-20T23:03:07.964273Z",
     "shell.execute_reply": "2022-12-20T23:03:07.963322Z",
     "shell.execute_reply.started": "2022-12-20T23:02:40.779271Z"
    }
   },
   "outputs": [
    {
     "name": "stdout",
     "output_type": "stream",
     "text": [
      "24/24 [==============================] - 18s 592ms/step - loss: 0.7002 - accuracy: 0.5524\n",
      "[0.7001708149909973, 0.5523560047149658]\n"
     ]
    }
   ],
   "source": [
    "print(model.evaluate(test_ds))"
   ]
  },
  {
   "cell_type": "code",
   "execution_count": 10,
   "id": "f85c00bb-f12e-4b93-bf95-20873beec77f",
   "metadata": {
    "execution": {
     "iopub.execute_input": "2022-12-20T23:03:07.967842Z",
     "iopub.status.busy": "2022-12-20T23:03:07.967326Z",
     "iopub.status.idle": "2022-12-20T23:03:07.972164Z",
     "shell.execute_reply": "2022-12-20T23:03:07.971554Z",
     "shell.execute_reply.started": "2022-12-20T23:03:07.967820Z"
    }
   },
   "outputs": [],
   "source": [
    "def render_history(history):\n",
    "    plt.plot(history[\"loss\"], label=\"loss\")\n",
    "    plt.plot(history[\"val_loss\"], label=\"val_loss\")\n",
    "    plt.legend()\n",
    "    plt.title(\"Our losses\")\n",
    "    plt.show()\n",
    "    plt.close()\n",
    "\n",
    "    plt.plot(history[\"accuracy\"], label=\"accuracy\")\n",
    "    plt.plot(history[\"val_accuracy\"], label=\"val_accuracy\")\n",
    "    plt.legend()\n",
    "    plt.title(\"Our accuracies\")\n",
    "    plt.show()\n",
    "    plt.close()"
   ]
  },
  {
   "cell_type": "code",
   "execution_count": 15,
   "id": "3764fc58-6f32-4144-ae56-04b0845c0b1c",
   "metadata": {
    "execution": {
     "iopub.execute_input": "2022-12-21T03:08:26.295217Z",
     "iopub.status.busy": "2022-12-21T03:08:26.294805Z",
     "iopub.status.idle": "2022-12-21T03:08:27.851551Z",
     "shell.execute_reply": "2022-12-21T03:08:27.850786Z",
     "shell.execute_reply.started": "2022-12-21T03:08:26.295191Z"
    },
    "tags": []
   },
   "outputs": [
    {
     "data": {
      "image/png": "[encoded data removed]",
      "text/plain": [
       "<Figure size 640x480 with 1 Axes>"
      ]
     },
     "metadata": {},
     "output_type": "display_data"
    },
    {
     "data": {
      "image/png": "[encoded data removed]",
      "text/plain": [
       "<Figure size 640x480 with 1 Axes>"
      ]
     },
     "metadata": {},
     "output_type": "display_data"
    }
   ],
   "source": [
    "import matplotlib.pyplot as plt\n",
    "render_history(history.history)"
   ]
  },
  {
   "cell_type": "code",
   "execution_count": 17,
   "id": "87ff06f1-c0f8-4348-8d53-8597e115cc47",
   "metadata": {
    "execution": {
     "iopub.execute_input": "2022-12-21T03:13:31.508996Z",
     "iopub.status.busy": "2022-12-21T03:13:31.508594Z",
     "iopub.status.idle": "2022-12-21T03:13:44.830224Z",
     "shell.execute_reply": "2022-12-21T03:13:44.829528Z",
     "shell.execute_reply.started": "2022-12-21T03:13:31.508971Z"
    },
    "tags": []
   },
   "outputs": [
    {
     "name": "stdout",
     "output_type": "stream",
     "text": [
      "WARNING:tensorflow:Detecting that an object or model or tf.train.Checkpoint is being deleted with unrestored values. See the following logs for the specific values in question. To silence these warnings, use `status.expect_partial()`. See https://www.tensorflow.org/api_docs/python/tf/train/Checkpoint#restorefor details about the status object returned by the restore function.\n"
     ]
    },
    {
     "name": "stderr",
     "output_type": "stream",
     "text": [
      "WARNING:tensorflow:Detecting that an object or model or tf.train.Checkpoint is being deleted with unrestored values. See the following logs for the specific values in question. To silence these warnings, use `status.expect_partial()`. See https://www.tensorflow.org/api_docs/python/tf/train/Checkpoint#restorefor details about the status object returned by the restore function.\n"
     ]
    },
    {
     "name": "stdout",
     "output_type": "stream",
     "text": [
      "WARNING:tensorflow:Value in checkpoint could not be found in the restored object: (root).layer-3._random_generator._generator._state_var\n"
     ]
    },
    {
     "name": "stderr",
     "output_type": "stream",
     "text": [
      "WARNING:tensorflow:Value in checkpoint could not be found in the restored object: (root).layer-3._random_generator._generator._state_var\n"
     ]
    },
    {
     "name": "stdout",
     "output_type": "stream",
     "text": [
      "WARNING:tensorflow:Value in checkpoint could not be found in the restored object: (root).layer-4._random_generator._generator._state_var\n"
     ]
    },
    {
     "name": "stderr",
     "output_type": "stream",
     "text": [
      "WARNING:tensorflow:Value in checkpoint could not be found in the restored object: (root).layer-4._random_generator._generator._state_var\n"
     ]
    },
    {
     "name": "stdout",
     "output_type": "stream",
     "text": [
      "24/24 [==============================] - 4s 117ms/step - loss: 0.7002 - accuracy: 0.5524\n"
     ]
    },
    {
     "data": {
      "text/plain": [
       "[0.7001708149909973, 0.5523560047149658]"
      ]
     },
     "execution_count": 17,
     "metadata": {},
     "output_type": "execute_result"
    }
   ],
   "source": [
    "model.evaluate(test_ds)"
   ]
  },
  {
   "cell_type": "code",
   "execution_count": 23,
   "id": "4402fce5-aa2f-46c7-9c3f-fd5c526511d3",
   "metadata": {
    "execution": {
     "iopub.execute_input": "2022-12-21T03:18:59.323362Z",
     "iopub.status.busy": "2022-12-21T03:18:59.322967Z",
     "iopub.status.idle": "2022-12-21T03:19:09.554550Z",
     "shell.execute_reply": "2022-12-21T03:19:09.553699Z",
     "shell.execute_reply.started": "2022-12-21T03:18:59.323337Z"
    },
    "tags": []
   },
   "outputs": [
    {
     "name": "stdout",
     "output_type": "stream",
     "text": [
      "WARNING:tensorflow:Detecting that an object or model or tf.train.Checkpoint is being deleted with unrestored values. See the following logs for the specific values in question. To silence these warnings, use `status.expect_partial()`. See https://www.tensorflow.org/api_docs/python/tf/train/Checkpoint#restorefor details about the status object returned by the restore function.\n"
     ]
    },
    {
     "name": "stderr",
     "output_type": "stream",
     "text": [
      "WARNING:tensorflow:Detecting that an object or model or tf.train.Checkpoint is being deleted with unrestored values. See the following logs for the specific values in question. To silence these warnings, use `status.expect_partial()`. See https://www.tensorflow.org/api_docs/python/tf/train/Checkpoint#restorefor details about the status object returned by the restore function.\n"
     ]
    },
    {
     "name": "stdout",
     "output_type": "stream",
     "text": [
      "WARNING:tensorflow:Value in checkpoint could not be found in the restored object: (root).layer-3._random_generator._generator._state_var\n"
     ]
    },
    {
     "name": "stderr",
     "output_type": "stream",
     "text": [
      "WARNING:tensorflow:Value in checkpoint could not be found in the restored object: (root).layer-3._random_generator._generator._state_var\n"
     ]
    },
    {
     "name": "stdout",
     "output_type": "stream",
     "text": [
      "WARNING:tensorflow:Value in checkpoint could not be found in the restored object: (root).layer-4._random_generator._generator._state_var\n"
     ]
    },
    {
     "name": "stderr",
     "output_type": "stream",
     "text": [
      "WARNING:tensorflow:Value in checkpoint could not be found in the restored object: (root).layer-4._random_generator._generator._state_var\n"
     ]
    },
    {
     "data": {
      "text/plain": [
       "<keras.engine.functional.Functional at 0x7f775153ab20>"
      ]
     },
     "execution_count": 23,
     "metadata": {},
     "output_type": "execute_result"
    }
   ],
   "source": [
    "model.export_model()"
   ]
  },
  {
   "cell_type": "code",
   "execution_count": 36,
   "id": "1e4d9ea8-a3bc-4d16-99f6-985ab92a6d12",
   "metadata": {
    "execution": {
     "iopub.execute_input": "2022-12-21T03:27:01.782992Z",
     "iopub.status.busy": "2022-12-21T03:27:01.782580Z",
     "iopub.status.idle": "2022-12-21T03:27:10.767993Z",
     "shell.execute_reply": "2022-12-21T03:27:10.767199Z",
     "shell.execute_reply.started": "2022-12-21T03:27:01.782967Z"
    },
    "tags": []
   },
   "outputs": [
    {
     "data": {
      "text/plain": [
       "<keras.engine.functional.Functional at 0x7f73b271d190>"
      ]
     },
     "execution_count": 36,
     "metadata": {},
     "output_type": "execute_result"
    }
   ],
   "source": [
    "model.tuner.get_best_model()"
   ]
  },
  {
   "cell_type": "code",
   "execution_count": 14,
   "id": "61232df4-1371-4526-97c5-af57cbea56ec",
   "metadata": {
    "execution": {
     "iopub.execute_input": "2022-12-21T03:07:45.931081Z",
     "iopub.status.busy": "2022-12-21T03:07:45.930681Z",
     "iopub.status.idle": "2022-12-21T03:07:45.940501Z",
     "shell.execute_reply": "2022-12-21T03:07:45.939686Z",
     "shell.execute_reply.started": "2022-12-21T03:07:45.931053Z"
    },
    "tags": []
   },
   "outputs": [
    {
     "data": {
      "text/plain": [
       "{'model_1': {'loss': [0.9180641770362854,\n",
       "   0.7137580513954163,\n",
       "   0.7202917337417603,\n",
       "   0.7189528942108154,\n",
       "   0.7037530541419983],\n",
       "  'accuracy': [0.5134943127632141,\n",
       "   0.5269886255264282,\n",
       "   0.5316051244735718,\n",
       "   0.5213068127632141,\n",
       "   0.5340909361839294],\n",
       "  'val_loss': [0.7058049440383911,\n",
       "   0.6995452046394348,\n",
       "   0.7440506219863892,\n",
       "   1.1662859916687012,\n",
       "   0.7069011330604553],\n",
       "  'val_accuracy': [0.45388349890708923,\n",
       "   0.5582524538040161,\n",
       "   0.446601927280426,\n",
       "   0.48786407709121704,\n",
       "   0.5606796145439148]}}"
      ]
     },
     "execution_count": 14,
     "metadata": {},
     "output_type": "execute_result"
    }
   ],
   "source": [
    "history_list"
   ]
  }
 ],
 "metadata": {
  "kernelspec": {
   "display_name": "Python 3 (ipykernel)",
   "language": "python",
   "name": "python3"
  },
  "language_info": {
   "codemirror_mode": {
    "name": "ipython",
    "version": 3
   },
   "file_extension": ".py",
   "mimetype": "text/x-python",
   "name": "python",
   "nbconvert_exporter": "python",
   "pygments_lexer": "ipython3",
   "version": "3.10.8"
  }
 },
 "nbformat": 4,
 "nbformat_minor": 5
}
