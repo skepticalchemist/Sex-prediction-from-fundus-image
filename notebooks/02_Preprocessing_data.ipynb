{
 "cells": [
  {
   "cell_type": "code",
   "execution_count": 1,
   "id": "19226778-ba45-4d0a-98cc-334ade8c4b78",
   "metadata": {},
   "outputs": [],
   "source": [
    "import glob\n",
    "import os\n",
    "import pandas as pd"
   ]
  },
  {
   "cell_type": "code",
   "execution_count": 2,
   "id": "f229a8f6-6407-4d36-85e3-0c098a6b7023",
   "metadata": {},
   "outputs": [],
   "source": [
    "# user defined functions\n",
    "\n",
    "def process_files(df, origin, destination):\n",
    "    '''\n",
    "    Select images with normal fundus (left and/or right) and write male and female to different directories\n",
    "    '''\n",
    "\n",
    "    r_cols = ['right_fundus', 'right_diagnostic']    \n",
    "    l_cols = ['left_fundus', 'left_diagnostic']    \n",
    "    \n",
    "    df_normal_left = df[df[\"left_diagnostic\"] == \"normal fundus\"].copy()\n",
    "    df_normal_right = df[df[\"right_diagnostic\"] == \"normal fundus\"].copy()\n",
    "\n",
    "    df_normal_left.drop(r_cols, axis=1, inplace=True)\n",
    "    df_normal_right.drop(l_cols, axis=1, inplace=True)\n",
    "\n",
    "    df_normal_left_male = df_normal_left[df_normal_left.sex == 'male'].copy()\n",
    "    df_normal_left_female = df_normal_left[df_normal_left.sex == 'female'].copy()\n",
    "\n",
    "    df_normal_right_male = df_normal_right[df_normal_right.sex == 'male'].copy()\n",
    "    df_normal_right_female = df_normal_right[df_normal_right.sex == 'female'].copy()\n",
    "    \n",
    "    \n",
    "    normal_left_male_list = df_normal_left_male.left_fundus.to_list()\n",
    "    normal_left_female_list = df_normal_left_female.left_fundus.to_list()\n",
    "\n",
    "    normal_right_male_list = df_normal_right_male.right_fundus.to_list()\n",
    "    normal_right_female_list = df_normal_right_female.right_fundus.to_list()\n",
    "\n",
    "    print(f'Copying images ...')\n",
    "    \n",
    "    for img in normal_left_male_list:\n",
    "        os.system(f'cp {origin}/{img} ../dat/{destination}/male/')\n",
    "\n",
    "    for img in normal_left_female_list:\n",
    "        os.system(f'cp {origin}/{img} ../dat/{destination}/female/')    \n",
    "        \n",
    "    for img in normal_right_male_list:\n",
    "        os.system(f'cp {origin}/{img} ../dat/{destination}/male/')\n",
    "\n",
    "    for img in normal_right_female_list:\n",
    "        os.system(f'cp {origin}/{img} ../dat/{destination}/female/')"
   ]
  },
  {
   "cell_type": "markdown",
   "id": "b5c2e63b-7e18-45bb-abd7-27534850e799",
   "metadata": {},
   "source": [
    "# Data loading"
   ]
  },
  {
   "cell_type": "code",
   "execution_count": 3,
   "id": "ff9c1dd2-d012-4aaf-aa18-81ff5f072746",
   "metadata": {},
   "outputs": [],
   "source": [
    "df_train = pd.read_excel('../OIA_ODIR/Training_Set/Annotation/training_annotation.xlsx', engine='openpyxl')"
   ]
  },
  {
   "cell_type": "code",
   "execution_count": 4,
   "id": "e649e23a-9ecc-47eb-a7ee-b2736ac7b65e",
   "metadata": {},
   "outputs": [],
   "source": [
    "df_val = pd.read_excel('../OIA_ODIR/Off-site_TestSet/Annotation/off-site_test_annotation.xlsx', engine='openpyxl')"
   ]
  },
  {
   "cell_type": "code",
   "execution_count": 5,
   "id": "8974f58d-9516-4409-97eb-f92465abcdff",
   "metadata": {},
   "outputs": [],
   "source": [
    "df_test = pd.read_excel('../OIA_ODIR/On-site_TestSet/Annotation/on-site_test_annotation.xlsx', engine='openpyxl')"
   ]
  },
  {
   "cell_type": "code",
   "execution_count": 6,
   "id": "4e5df4c8-49ac-4a9c-a91f-bd55488e72f6",
   "metadata": {},
   "outputs": [
    {
     "data": {
      "text/plain": [
       "((3500, 15), (1000, 15), (500, 15))"
      ]
     },
     "execution_count": 6,
     "metadata": {},
     "output_type": "execute_result"
    }
   ],
   "source": [
    "df_train.shape, df_test.shape, df_val.shape"
   ]
  },
  {
   "cell_type": "markdown",
   "id": "d05be2e2-0279-4ef4-92c9-107e4946eb60",
   "metadata": {},
   "source": [
    "# Data preprocessing"
   ]
  },
  {
   "cell_type": "code",
   "execution_count": 7,
   "id": "93c3ffe6-470d-465e-811f-9f653861827e",
   "metadata": {},
   "outputs": [],
   "source": [
    "# rename columns and convert some specific values to lowercase \n",
    "column_names = list(df_train.columns)\n",
    "\n",
    "new_column_names = [\n",
    "    'id',\n",
    "    'age',\n",
    "    'sex',\n",
    "    'left_fundus',\n",
    "    'right_fundus',\n",
    "    'left_diagnostic',\n",
    "    'right_diagnostic',\n",
    "    'n',\n",
    "    'd',\n",
    "    'g',\n",
    "    'c',\n",
    "    'a',\n",
    "    'h',\n",
    "    'm',\n",
    "    'o']\n",
    "\n",
    "columns_dict = {column_names[i]: new_column_names[i] for i in range(len(column_names))}\n",
    "\n",
    "df_train.rename(columns_dict, axis=1, inplace=True)\n",
    "df_test.rename(columns_dict, axis=1, inplace=True)\n",
    "df_val.rename(columns_dict, axis=1, inplace=True)\n",
    "\n",
    "df_train['sex'] = df_train['sex'].str.lower()\n",
    "df_test['sex'] = df_test['sex'].str.lower()\n",
    "df_val['sex'] = df_val['sex'].str.lower()"
   ]
  },
  {
   "cell_type": "code",
   "execution_count": 8,
   "id": "e4786f30-8e7b-467c-9741-7778e807b8d4",
   "metadata": {},
   "outputs": [],
   "source": [
    "# drop some columns\n",
    "disease_columns = ['n', 'd', 'g', 'c', 'a', 'h', 'm', 'o']\n",
    "\n",
    "df_train.drop(disease_columns, axis=1, inplace=True)\n",
    "df_test.drop(disease_columns, axis=1, inplace=True)\n",
    "df_val.drop(disease_columns, axis=1, inplace=True)"
   ]
  },
  {
   "cell_type": "code",
   "execution_count": 9,
   "id": "4153adc6-6a44-49d0-b50a-998f4f354d86",
   "metadata": {},
   "outputs": [
    {
     "name": "stdout",
     "output_type": "stream",
     "text": [
      "Copying images ...\n",
      "Copying images ...\n",
      "Copying images ...\n"
     ]
    }
   ],
   "source": [
    "# copying images\n",
    "# train\n",
    "process_files(df_train, '../OIA_ODIR/Training_Set/Images/', 'train')\n",
    "# test\n",
    "process_files(df_test, '../OIA_ODIR/On-site_TestSet/Images/', 'test')\n",
    "# val\n",
    "process_files(df_val, '../OIA_ODIR/Off-site_TestSet/Images/', 'val')"
   ]
  },
  {
   "cell_type": "code",
   "execution_count": 10,
   "id": "fdb358eb-38ac-432c-bcc9-ec07828f1d99",
   "metadata": {},
   "outputs": [
    {
     "name": "stdout",
     "output_type": "stream",
     "text": [
      "train: male = 1545, female = 1271, total = 2816\n",
      "test:  male = 426,  female = 338,  total = 764\n",
      "val:   male = 230,  female = 182,  total = 412\n"
     ]
    }
   ],
   "source": [
    "# counting the number of images\n",
    "train_male = len(glob.glob(\"../dat/train/male/*.jpg\"))\n",
    "train_female = len(glob.glob(\"../dat/train/female/*.jpg\"))\n",
    "\n",
    "test_male = len(glob.glob(\"../dat/test/male/*.jpg\"))\n",
    "test_female = len(glob.glob(\"../dat/test/female/*.jpg\"))\n",
    "\n",
    "val_male = len(glob.glob(\"../dat/val/male/*.jpg\"))\n",
    "val_female = len(glob.glob(\"../dat/val/female/*.jpg\"))\n",
    "\n",
    "print(f'train: male = {train_male}, female = {train_female}, total = {(train_male + train_female)}')\n",
    "print(f'test:  male = {test_male},  female = {test_female},  total = {(test_male + test_female)}')\n",
    "print(f'val:   male = {val_male},  female = {val_female},  total = {(val_male + val_female)}')"
   ]
  }
 ],
 "metadata": {
  "kernelspec": {
   "display_name": "mlzoomcamp",
   "language": "python",
   "name": "mlzoomcamp"
  },
  "language_info": {
   "codemirror_mode": {
    "name": "ipython",
    "version": 3
   },
   "file_extension": ".py",
   "mimetype": "text/x-python",
   "name": "python",
   "nbconvert_exporter": "python",
   "pygments_lexer": "ipython3",
   "version": "3.10.8"
  }
 },
 "nbformat": 4,
 "nbformat_minor": 5
}
